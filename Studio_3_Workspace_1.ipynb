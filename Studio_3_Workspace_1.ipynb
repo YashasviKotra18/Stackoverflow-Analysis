{
 "cells": [
  {
   "cell_type": "code",
   "execution_count": 1,
   "id": "d32587f0-50bd-451b-8d08-0b465f877500",
   "metadata": {
    "execution": {
     "iopub.execute_input": "2024-04-28T20:22:25.269756Z",
     "iopub.status.busy": "2024-04-28T20:22:25.269436Z",
     "iopub.status.idle": "2024-04-28T20:22:25.873311Z",
     "shell.execute_reply": "2024-04-28T20:22:25.871916Z",
     "shell.execute_reply.started": "2024-04-28T20:22:25.269727Z"
    },
    "tags": []
   },
   "outputs": [
    {
     "data": {
      "text/html": [
       "Current session configs: <tt>{'conf': {'spark.jars.packages': 'com.databricks:spark-xml_2.12:0.14.0'}, 'proxyUser': 'user_emr_user', 'kind': 'pyspark'}</tt><br>"
      ],
      "text/plain": [
       "<IPython.core.display.HTML object>"
      ]
     },
     "metadata": {},
     "output_type": "display_data"
    },
    {
     "data": {
      "text/html": [
       "No active sessions."
      ],
      "text/plain": [
       "<IPython.core.display.HTML object>"
      ]
     },
     "metadata": {},
     "output_type": "display_data"
    }
   ],
   "source": [
    "%%configure -f\n",
    "{\n",
    "    \"conf\": {\n",
    "        \"spark.jars.packages\": \"com.databricks:spark-xml_2.12:0.14.0\"\n",
    "    }\n",
    "}"
   ]
  },
  {
   "cell_type": "code",
   "execution_count": 9,
   "id": "8aa2c8c7-0c44-4de3-afcc-4d211217b25f",
   "metadata": {
    "execution": {
     "iopub.execute_input": "2024-04-28T20:28:15.105111Z",
     "iopub.status.busy": "2024-04-28T20:28:15.104806Z",
     "iopub.status.idle": "2024-04-28T21:15:59.197052Z",
     "shell.execute_reply": "2024-04-28T21:15:59.196243Z",
     "shell.execute_reply.started": "2024-04-28T20:28:15.105085Z"
    },
    "tags": []
   },
   "outputs": [
    {
     "data": {
      "application/vnd.jupyter.widget-view+json": {
       "model_id": "e5826659a56940c2bad7fed49af19a95",
       "version_major": 2,
       "version_minor": 0
      },
      "text/plain": [
       "VBox()"
      ]
     },
     "metadata": {},
     "output_type": "display_data"
    },
    {
     "data": {
      "application/vnd.jupyter.widget-view+json": {
       "model_id": "",
       "version_major": 2,
       "version_minor": 0
      },
      "text/plain": [
       "FloatProgress(value=0.0, bar_style='info', description='Progress:', layout=Layout(height='25px', width='50%'),…"
      ]
     },
     "metadata": {},
     "output_type": "display_data"
    }
   ],
   "source": [
    "(\n",
    "    spark\n",
    "    .read\n",
    "    .format('xml')\n",
    "    .option('samplingRatio', 0.01)\n",
    "    .option(\"rowTag\", \"row\")\n",
    "    .load(posts_input_path)\n",
    "    .select(\n",
    "        col('_Id').alias('id'),\n",
    "        (col('_CreationDate').cast('timestamp')).alias('creation_date'),\n",
    "        col('_Title').alias('title'),\n",
    "        col('_Body').alias('body'),\n",
    "        col('_commentCount').alias('comments'),\n",
    "        col('_AcceptedAnswerId').alias('accepted_answer_id'),\n",
    "        col('_AnswerCount').alias('answers'),\n",
    "        col('_FavoriteCount').alias('favorite_count'),\n",
    "        col('_OwnerDisplayName').alias('owner_display_name'),\n",
    "        col('_OwnerUserId').alias('user_id'),\n",
    "        col('_ParentId').alias('parent_id'),\n",
    "        col('_PostTypeId').alias('post_type_id'),\n",
    "        col('_Score').alias('score'),\n",
    "        col('_Tags').alias('tags'),\n",
    "        col('_ViewCount').alias('views')\n",
    "    )\n",
    "    .write\n",
    "    .mode('overwrite')\n",
    "    .format('parquet')\n",
    "    .option('path', posts_output_path)\n",
    "    .save()\n",
    ")"
   ]
  },
  {
   "cell_type": "code",
   "execution_count": 1,
   "id": "fe8a00b0-51b2-453e-b0e3-717362b69aec",
   "metadata": {
    "execution": {
     "iopub.execute_input": "2024-04-29T03:07:18.988248Z",
     "iopub.status.busy": "2024-04-29T03:07:18.987928Z",
     "iopub.status.idle": "2024-04-29T03:07:47.645637Z",
     "shell.execute_reply": "2024-04-29T03:07:47.644915Z",
     "shell.execute_reply.started": "2024-04-29T03:07:18.988221Z"
    },
    "tags": []
   },
   "outputs": [
    {
     "data": {
      "application/vnd.jupyter.widget-view+json": {
       "model_id": "fcf116055ea848928b1b883d60d1d7d4",
       "version_major": 2,
       "version_minor": 0
      },
      "text/plain": [
       "VBox()"
      ]
     },
     "metadata": {},
     "output_type": "display_data"
    },
    {
     "name": "stdout",
     "output_type": "stream",
     "text": [
      "Starting Spark application\n"
     ]
    },
    {
     "data": {
      "text/html": [
       "<table>\n",
       "<tbody><tr><th>ID</th><th>YARN Application ID</th><th>Kind</th><th>State</th><th>Spark UI</th><th>Driver log</th><th>User</th><th>Current session?</th></tr><tr><td>9</td><td>application_1714293386604_0010</td><td>pyspark</td><td>idle</td><td><a target=\"_blank\" href=\"http://ip-172-31-27-226.us-west-1.compute.internal:20888/proxy/application_1714293386604_0010/\" class=\"emr-proxy-link j-1XQBRLTONV1E4 application_1714293386604_0010\" emr-resource=\"j-1XQBRLTONV1E4\n",
       "\" application-id=\"application_1714293386604_0010\">Link</a></td><td><a target=\"_blank\" href=\"http://ip-172-31-30-110.us-west-1.compute.internal:8042/node/containerlogs/container_1714293386604_0010_01_000001/livy\">Link</a></td><td>None</td><td>✔</td></tr></tbody></table>"
      ],
      "text/plain": [
       "<IPython.core.display.HTML object>"
      ]
     },
     "metadata": {},
     "output_type": "display_data"
    },
    {
     "data": {
      "application/vnd.jupyter.widget-view+json": {
       "model_id": "",
       "version_major": 2,
       "version_minor": 0
      },
      "text/plain": [
       "FloatProgress(value=0.0, bar_style='info', description='Progress:', layout=Layout(height='25px', width='50%'),…"
      ]
     },
     "metadata": {},
     "output_type": "display_data"
    },
    {
     "name": "stdout",
     "output_type": "stream",
     "text": [
      "SparkSession available as 'spark'.\n"
     ]
    },
    {
     "data": {
      "application/vnd.jupyter.widget-view+json": {
       "model_id": "",
       "version_major": 2,
       "version_minor": 0
      },
      "text/plain": [
       "FloatProgress(value=0.0, bar_style='info', description='Progress:', layout=Layout(height='25px', width='50%'),…"
      ]
     },
     "metadata": {},
     "output_type": "display_data"
    }
   ],
   "source": [
    "# output path where we save the posts in parquet format\n",
    "posts_output_path = 's3://samplebucketbig/output_parquet_file/'"
   ]
  },
  {
   "cell_type": "code",
   "execution_count": 5,
   "id": "1acb2e98-f14c-4952-b4bd-f5a51f43e2f5",
   "metadata": {
    "execution": {
     "iopub.execute_input": "2024-04-28T20:24:51.746089Z",
     "iopub.status.busy": "2024-04-28T20:24:51.745749Z",
     "iopub.status.idle": "2024-04-28T20:24:51.795957Z",
     "shell.execute_reply": "2024-04-28T20:24:51.795242Z",
     "shell.execute_reply.started": "2024-04-28T20:24:51.746062Z"
    },
    "tags": []
   },
   "outputs": [
    {
     "data": {
      "application/vnd.jupyter.widget-view+json": {
       "model_id": "24dbf01ad71e49328bed3cfecb7bad3f",
       "version_major": 2,
       "version_minor": 0
      },
      "text/plain": [
       "VBox()"
      ]
     },
     "metadata": {},
     "output_type": "display_data"
    },
    {
     "data": {
      "application/vnd.jupyter.widget-view+json": {
       "model_id": "",
       "version_major": 2,
       "version_minor": 0
      },
      "text/plain": [
       "FloatProgress(value=0.0, bar_style='info', description='Progress:', layout=Layout(height='25px', width='50%'),…"
      ]
     },
     "metadata": {},
     "output_type": "display_data"
    }
   ],
   "source": [
    "from pyspark.sql.functions import col"
   ]
  },
  {
   "cell_type": "code",
   "execution_count": 7,
   "id": "d883e151-5dec-4bbc-9c79-578032e56937",
   "metadata": {
    "execution": {
     "iopub.execute_input": "2024-04-28T20:26:04.554422Z",
     "iopub.status.busy": "2024-04-28T20:26:04.554125Z",
     "iopub.status.idle": "2024-04-28T20:26:04.609235Z",
     "shell.execute_reply": "2024-04-28T20:26:04.608595Z",
     "shell.execute_reply.started": "2024-04-28T20:26:04.554397Z"
    },
    "tags": []
   },
   "outputs": [
    {
     "data": {
      "application/vnd.jupyter.widget-view+json": {
       "model_id": "a7a7574a13d949a8a7368209a38ecb43",
       "version_major": 2,
       "version_minor": 0
      },
      "text/plain": [
       "VBox()"
      ]
     },
     "metadata": {},
     "output_type": "display_data"
    },
    {
     "data": {
      "application/vnd.jupyter.widget-view+json": {
       "model_id": "",
       "version_major": 2,
       "version_minor": 0
      },
      "text/plain": [
       "FloatProgress(value=0.0, bar_style='info', description='Progress:', layout=Layout(height='25px', width='50%'),…"
      ]
     },
     "metadata": {},
     "output_type": "display_data"
    }
   ],
   "source": [
    "# path to the posts dataset in raw format (XML)\n",
    "posts_input_path = 's3://samplebucketbig/raw_data_dump/'"
   ]
  }
 ],
 "metadata": {
  "kernelspec": {
   "display_name": "PySpark",
   "language": "python",
   "name": "pysparkkernel"
  },
  "language_info": {
   "codemirror_mode": {
    "name": "python",
    "version": 3
   },
   "file_extension": ".py",
   "mimetype": "text/x-python",
   "name": "pyspark",
   "pygments_lexer": "python3"
  }
 },
 "nbformat": 4,
 "nbformat_minor": 5
}
